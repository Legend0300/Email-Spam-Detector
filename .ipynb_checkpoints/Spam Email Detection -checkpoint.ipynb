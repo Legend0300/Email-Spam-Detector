{
 "cells": [
  {
   "cell_type": "code",
   "execution_count": null,
   "id": "861f2325",
   "metadata": {},
   "outputs": [],
   "source": [
    "from sklearn.datasets import load_digits\n",
    "%matplotlib inline\n",
    "import matplotlib.pyplot as plt\n",
    "from sklearn.linear_model import LogisticRegression\n",
    "from sklearn.model_selection import train_test_split\n",
    "from sklearn.metrics import confusion_matrix\n",
    "import pandas  as pd\n",
    "from sklearn import tree\n",
    "from sklearn.preprocessing import OneHotEncoder , LabelEncoder\n",
    "from sklearn.feature_extraction.text import CountVectorizer , TfidfVectorizer\n",
    "from sklearn.pipeline import Pipeline , FeatureUnion\n",
    "from sklearn import svm\n",
    "from sklearn.ensemble import RandomForestClassifier\n",
    "from sklearn.linear_model import LogisticRegression\n",
    "from sklearn.naive_bayes import GaussianNB\n",
    "from sklearn.naive_bayes import MultinomialNB\n",
    "from sklearn.tree import DecisionTreeClassifier\n",
    "from sklearn.model_selection import train_test_split\n",
    "from sklearn.metrics import confusion_matrix\n",
    "import pandas  as pd\n",
    "from sklearn.model_selection import RandomizedSearchCV , GridSearchCV"
   ]
  },
  {
   "cell_type": "code",
   "execution_count": null,
   "id": "a3d935d2",
   "metadata": {},
   "outputs": [],
   "source": [
    "df = pd.read_csv(\"spam.csv\")\n",
    "df[\"spam\"] = df[\"Category\"].apply(lambda x: 1 if x == \"spam\" else 0)\n",
    "df.head()\n",
    "y = df[\"spam\"]\n",
    "X = df[\"Message\"]\n",
    "X.head()"
   ]
  },
  {
   "cell_type": "code",
   "execution_count": null,
   "id": "0bb33462",
   "metadata": {},
   "outputs": [],
   "source": [
    "param_values = [10 ** i for i in range(-1, 4)]  # [0.1, 1, 10, 100, 1000]\n",
    "\n",
    "all_model_params = {\n",
    "    \"svm\": {\n",
    "        \"model\": svm.SVC(gamma=\"auto\"),\n",
    "        \"params\": {\n",
    "            \"C\": param_values,\n",
    "            \"kernel\": [\"linear\", \"rbf\"]\n",
    "        }\n",
    "    },\n",
    "    \"random_forest\": {\n",
    "        \"model\": RandomForestClassifier(),\n",
    "        \"params\": {\n",
    "            \"n_estimators\": [50, 100, 150],\n",
    "            \"max_depth\": [None, 10, 20],\n",
    "            \"min_samples_split\": [2, 5, 10],\n",
    "            \"min_samples_leaf\": [1, 2, 4]\n",
    "        }\n",
    "    },\n",
    "    \"gaussian_nb\": {\n",
    "        \"model\": GaussianNB(),\n",
    "        \"params\": {}\n",
    "    },\n",
    "    \"multinomial_nb\": {\n",
    "        \"model\": MultinomialNB(),\n",
    "        \"params\": {}\n",
    "    },\n",
    "    \"decision_tree\": {\n",
    "        \"model\": DecisionTreeClassifier(),\n",
    "        \"params\": {\n",
    "            \"criterion\": [\"gini\", \"entropy\"],\n",
    "            \"max_depth\": [None, 10, 20],\n",
    "            \"min_samples_split\": [2, 5, 10],\n",
    "            \"min_samples_leaf\": [1, 2, 4]\n",
    "        }\n",
    "    }\n",
    "}"
   ]
  },
  {
   "cell_type": "code",
   "execution_count": null,
   "id": "15576d4f",
   "metadata": {},
   "outputs": [],
   "source": [
    "vectorizer = CountVectorizer()"
   ]
  },
  {
   "cell_type": "code",
   "execution_count": null,
   "id": "d390af61",
   "metadata": {},
   "outputs": [],
   "source": [
    "vectorized_emails = vectorizer.fit_transform(X)\n",
    "X = vectorized_emails.toarray()"
   ]
  },
  {
   "cell_type": "code",
   "execution_count": null,
   "id": "af06005d",
   "metadata": {},
   "outputs": [],
   "source": [
    "from sklearn.model_selection import train_test_split\n",
    "X_train, X_test, y_train, y_test = train_test_split(X,y, test_size=0.3)"
   ]
  },
  {
   "cell_type": "code",
   "execution_count": null,
   "id": "e5fd93a5",
   "metadata": {},
   "outputs": [],
   "source": [
    "from sklearn.naive_bayes import MultinomialNB"
   ]
  },
  {
   "cell_type": "code",
   "execution_count": null,
   "id": "7d6c74fa",
   "metadata": {},
   "outputs": [],
   "source": [
    "model = MultinomialNB()\n",
    "model.fit(X_train , y_train)"
   ]
  },
  {
   "cell_type": "code",
   "execution_count": null,
   "id": "8e04d3df",
   "metadata": {
    "scrolled": true
   },
   "outputs": [],
   "source": [
    "model.score(X_test , y_test)"
   ]
  },
  {
   "cell_type": "code",
   "execution_count": null,
   "id": "638ca76d",
   "metadata": {
    "scrolled": true
   },
   "outputs": [],
   "source": [
    "emails = [\n",
    "    \"Free trial! Click here now to claim your prize.\",\n",
    "    \"Hello, I hope you had a great day today.\",\n",
    "    \"Get 50% off on all products for a limited time!\",\n",
    "    \"Reminder: Meeting tomorrow at 10 AM in the conference room.\",\n",
    "    \"Congratulations! You won a gift card worth $1000!\",\n",
    "    \"frontend developer” role: HiredSupport Senior Frontend Developer\",\n",
    "    \"An eVoucher save up and some 10% off to Rs. 25,000 on the next Galaxy, just for you\"\n",
    "]\n",
    "v_emails = vectorizer.transform(emails)\n",
    "model.predict(v_emails)"
   ]
  },
  {
   "cell_type": "code",
   "execution_count": null,
   "id": "8a4e9a5d",
   "metadata": {},
   "outputs": [],
   "source": [
    "scores = []\n",
    "for model_name , model_params in all_model_params.items():\n",
    "    clf = RandomizedSearchCV(model_params[\"model\"] , model_params[\"params\"] , cv=3 ,n_iter=1)\n",
    "    clf.fit(X_train , y_train)\n",
    "    scores.append({\n",
    "        \"model\" : model_name,\n",
    "        \"best score\": clf.best_score_,\n",
    "        \"best params\" : clf.best_params_\n",
    "    })\n",
    "    "
   ]
  },
  {
   "cell_type": "code",
   "execution_count": null,
   "id": "d13b2889",
   "metadata": {},
   "outputs": [],
   "source": [
    "df = pd.DataFrame(scores , columns=[\"model\" , \"best score\" , \"best params\"])\n",
    "df"
   ]
  },
  {
   "cell_type": "code",
   "execution_count": null,
   "id": "dbffc620",
   "metadata": {},
   "outputs": [],
   "source": [
    "count_vectorizer = CountVectorizer()\n",
    "tfidf_vectorizer = TfidfVectorizer()\n",
    "\n",
    "# Combine the vectorizers using FeatureUnion\n",
    "vectorizers = FeatureUnion([\n",
    "    (\"count_vectorizer\", count_vectorizer),\n",
    "    (\"tfidf_vectorizer\", tfidf_vectorizer)\n",
    "])\n",
    "\n",
    "# Create the pipeline\n",
    "clf = Pipeline([\n",
    "    (\"vectorizers\", vectorizers),\n",
    "    (\"nb\", MultinomialNB())\n",
    "])"
   ]
  },
  {
   "cell_type": "code",
   "execution_count": null,
   "id": "ac75bbe8",
   "metadata": {},
   "outputs": [],
   "source": [
    "df = pd.read_csv(\"spam.csv\")\n",
    "df[\"spam\"] = df[\"Category\"].apply(lambda x: 1 if x == \"spam\" else 0)\n",
    "df.head()\n",
    "y = df[\"spam\"]\n",
    "X = df[\"Message\"]\n",
    "\n",
    "X_train, X_test, y_train, y_test = train_test_split(X,y, test_size=0.3)\n",
    "\n",
    "\n",
    "clf.fit(X_train , y_train)\n",
    "clf.score(X_test , y_test)"
   ]
  },
  {
   "cell_type": "code",
   "execution_count": null,
   "id": "671dead5",
   "metadata": {
    "scrolled": true
   },
   "outputs": [],
   "source": [
    "emails = [\n",
    "     \"Free trial! Click here now to claim your prize.\",\n",
    "    \"Hello, I hope you had a great day today.\",\n",
    "    \"Get 50% off on all products for a limited time!\",\n",
    "    \"Reminder: Meeting tomorrow at 10 AM in the conference room.\",\n",
    "    \"Congratulations! You won a gift card worth $1000!\",\n",
    "    \"frontend developer” role: HiredSupport Senior Frontend Developer\",\n",
    "    \"An eVoucher save up and some 10% off to Rs. 25,000 on the next Galaxy, just for you\"\n",
    "]\n",
    "\n",
    "\n",
    "preds = clf.predict(emails)\n",
    "preds"
   ]
  },
  {
   "cell_type": "code",
   "execution_count": null,
   "id": "96e3bfba",
   "metadata": {},
   "outputs": [],
   "source": []
  },
  {
   "cell_type": "code",
   "execution_count": null,
   "id": "ff82b637",
   "metadata": {},
   "outputs": [],
   "source": []
  },
  {
   "cell_type": "code",
   "execution_count": null,
   "id": "98c48311",
   "metadata": {},
   "outputs": [],
   "source": []
  },
  {
   "cell_type": "code",
   "execution_count": null,
   "id": "f929b90e",
   "metadata": {},
   "outputs": [],
   "source": []
  }
 ],
 "metadata": {
  "kernelspec": {
   "display_name": "Python 3 (ipykernel)",
   "language": "python",
   "name": "python3"
  },
  "language_info": {
   "codemirror_mode": {
    "name": "ipython",
    "version": 3
   },
   "file_extension": ".py",
   "mimetype": "text/x-python",
   "name": "python",
   "nbconvert_exporter": "python",
   "pygments_lexer": "ipython3",
   "version": "3.9.13"
  }
 },
 "nbformat": 4,
 "nbformat_minor": 5
}
