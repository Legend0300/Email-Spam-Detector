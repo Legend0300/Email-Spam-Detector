{
 "cells": [
  {
   "cell_type": "code",
   "execution_count": 94,
   "id": "861f2325",
   "metadata": {},
   "outputs": [],
   "source": [
    "from sklearn.datasets import load_digits\n",
    "%matplotlib inline\n",
    "import matplotlib.pyplot as plt\n",
    "from sklearn.linear_model import LogisticRegression\n",
    "from sklearn.model_selection import train_test_split\n",
    "from sklearn.metrics import confusion_matrix\n",
    "import pandas  as pd\n",
    "from sklearn import tree\n",
    "from sklearn.preprocessing import OneHotEncoder , LabelEncoder\n",
    "from sklearn.feature_extraction.text import CountVectorizer , TfidfVectorizer\n",
    "from sklearn.pipeline import Pipeline , FeatureUnion\n",
    "from sklearn import svm\n",
    "from sklearn.ensemble import RandomForestClassifier\n",
    "from sklearn.linear_model import LogisticRegression\n",
    "from sklearn.naive_bayes import GaussianNB\n",
    "from sklearn.naive_bayes import MultinomialNB\n",
    "from sklearn.tree import DecisionTreeClassifier\n",
    "from sklearn.model_selection import train_test_split\n",
    "from sklearn.metrics import confusion_matrix\n",
    "import pandas  as pd\n",
    "from sklearn.model_selection import RandomizedSearchCV , GridSearchCV\n",
    "from sklearn.decomposition import PCA"
   ]
  },
  {
   "cell_type": "code",
   "execution_count": 95,
   "id": "a3d935d2",
   "metadata": {},
   "outputs": [
    {
     "data": {
      "text/plain": [
       "0    Go until jurong point, crazy.. Available only ...\n",
       "1                        Ok lar... Joking wif u oni...\n",
       "2    Free entry in 2 a wkly comp to win FA Cup fina...\n",
       "3    U dun say so early hor... U c already then say...\n",
       "4    Nah I don't think he goes to usf, he lives aro...\n",
       "Name: Message, dtype: object"
      ]
     },
     "execution_count": 95,
     "metadata": {},
     "output_type": "execute_result"
    }
   ],
   "source": [
    "df = pd.read_csv(\"spam.csv\")\n",
    "df[\"spam\"] = df[\"Category\"].apply(lambda x: 1 if x == \"spam\" else 0)\n",
    "df.head()\n",
    "y = df[\"spam\"]\n",
    "X = df[\"Message\"]\n",
    "X.head()"
   ]
  },
  {
   "cell_type": "code",
   "execution_count": 96,
   "id": "0bb33462",
   "metadata": {},
   "outputs": [],
   "source": [
    "param_values = [10 ** i for i in range(-1, 4)]  \n",
    "\n",
    "all_model_params = {\n",
    "    \"svm\": {\n",
    "        \"model\": svm.SVC(gamma=\"auto\"),\n",
    "        \"params\": {\n",
    "            \"C\": param_values,\n",
    "            \"kernel\": [\"linear\", \"rbf\"]\n",
    "        }\n",
    "    },\n",
    "    \"random_forest\": {\n",
    "        \"model\": RandomForestClassifier(),\n",
    "        \"params\": {\n",
    "            \"n_estimators\": [50, 100, 150],\n",
    "            \"max_depth\": [None, 10, 20],\n",
    "            \"min_samples_split\": [2, 5, 10],\n",
    "            \"min_samples_leaf\": [1, 2, 4]\n",
    "        }\n",
    "    },\n",
    "    \"gaussian_nb\": {\n",
    "        \"model\": GaussianNB(),\n",
    "        \"params\": {}\n",
    "    },\n",
    "    \"multinomial_nb\": {\n",
    "        \"model\": MultinomialNB(),\n",
    "        \"params\": {}\n",
    "    },\n",
    "    \"decision_tree\": {\n",
    "        \"model\": DecisionTreeClassifier(),\n",
    "        \"params\": {\n",
    "            \"criterion\": [\"gini\", \"entropy\"],\n",
    "            \"max_depth\": [None, 10, 20],\n",
    "            \"min_samples_split\": [2, 5, 10],\n",
    "            \"min_samples_leaf\": [1, 2, 4]\n",
    "        }\n",
    "    }\n",
    "}"
   ]
  },
  {
   "cell_type": "code",
   "execution_count": 97,
   "id": "15576d4f",
   "metadata": {},
   "outputs": [],
   "source": [
    "vectorizer = CountVectorizer()"
   ]
  },
  {
   "cell_type": "code",
   "execution_count": 98,
   "id": "d390af61",
   "metadata": {},
   "outputs": [],
   "source": [
    "vectorized_emails = vectorizer.fit_transform(X)\n",
    "X = vectorized_emails.toarray()"
   ]
  },
  {
   "cell_type": "code",
   "execution_count": 99,
   "id": "af06005d",
   "metadata": {},
   "outputs": [],
   "source": [
    "from sklearn.model_selection import train_test_split\n",
    "X_train, X_test, y_train, y_test = train_test_split(X,y, test_size=0.3)"
   ]
  },
  {
   "cell_type": "code",
   "execution_count": 100,
   "id": "e5fd93a5",
   "metadata": {},
   "outputs": [],
   "source": [
    "from sklearn.naive_bayes import MultinomialNB"
   ]
  },
  {
   "cell_type": "code",
   "execution_count": 101,
   "id": "638ca76d",
   "metadata": {
    "scrolled": true
   },
   "outputs": [],
   "source": [
    "emails = [\n",
    "    \"Free trial! Click here now to claim your prize.\",\n",
    "    \"Hello, I hope you had a great day today.\",\n",
    "    \"Get 50% off on all products for a limited time!\",\n",
    "    \"Reminder: Meeting tomorrow at 10 AM in the conference room.\",\n",
    "    \"Congratulations! You won a gift card worth $1000!\",\n",
    "    \"frontend developer” role: HiredSupport Senior Frontend Developer\",\n",
    "    \"An eVoucher save up and some 10% off to Rs. 25,000 on the next Galaxy, just for you\"\n",
    "]\n",
    "v_emails = vectorizer.transform(emails)"
   ]
  },
  {
   "cell_type": "code",
   "execution_count": 102,
   "id": "dbffc620",
   "metadata": {},
   "outputs": [],
   "source": [
    "count_vectorizer = CountVectorizer()\n",
    "tfidf_vectorizer = TfidfVectorizer()\n",
    "\n",
    "# Combine the vectorizers using FeatureUnion\n",
    "vectorizers = FeatureUnion([\n",
    "    (\"count_vectorizer\", count_vectorizer),\n",
    "    (\"tfidf_vectorizer\", tfidf_vectorizer)\n",
    "])\n",
    "\n",
    "# Create the pipeline\n",
    "clf = Pipeline([\n",
    "    (\"vectorizers\", vectorizers),\n",
    "    (\"nb\", MultinomialNB())\n",
    "])"
   ]
  },
  {
   "cell_type": "code",
   "execution_count": 103,
   "id": "ac75bbe8",
   "metadata": {},
   "outputs": [
    {
     "data": {
      "text/plain": [
       "0.9856459330143541"
      ]
     },
     "execution_count": 103,
     "metadata": {},
     "output_type": "execute_result"
    }
   ],
   "source": [
    "df = pd.read_csv(\"spam.csv\")\n",
    "df[\"spam\"] = df[\"Category\"].apply(lambda x: 1 if x == \"spam\" else 0)\n",
    "df.head()\n",
    "y = df[\"spam\"]\n",
    "X = df[\"Message\"]\n",
    "\n",
    "X_train, X_test, y_train, y_test = train_test_split(X,y, test_size=0.3)\n",
    "\n",
    "\n",
    "clf.fit(X_train , y_train)\n",
    "clf.score(X_test , y_test)"
   ]
  },
  {
   "cell_type": "code",
   "execution_count": 104,
   "id": "671dead5",
   "metadata": {
    "scrolled": true
   },
   "outputs": [
    {
     "data": {
      "text/plain": [
       "array([1, 0, 0, 0, 1, 0, 0], dtype=int64)"
      ]
     },
     "execution_count": 104,
     "metadata": {},
     "output_type": "execute_result"
    }
   ],
   "source": [
    "emails = [\n",
    "     \"Free trial! Click here now to claim your prize.\",\n",
    "    \"Hello, I hope you had a great day today.\",\n",
    "    \"Get 50% off on all products for a limited time!\",\n",
    "    \"Reminder: Meeting tomorrow at 10 AM in the conference room.\",\n",
    "    \"Congratulations! You won a gift card worth $1000!\",\n",
    "    \"frontend developer” role: HiredSupport Senior Frontend Developer\",\n",
    "    \"An eVoucher save up and some 10% off to Rs. 25,000 on the next Galaxy, just for you\"\n",
    "]\n",
    "\n",
    "\n",
    "preds = clf.predict(emails)\n",
    "preds\n",
    "\n"
   ]
  },
  {
   "cell_type": "code",
   "execution_count": 105,
   "id": "96e3bfba",
   "metadata": {},
   "outputs": [],
   "source": [
    "import pickle\n",
    "\n",
    "# Save the model as a pickle in a file\n",
    "pickle.dump(clf, open('spam_classifier.pkl', 'wb'))\n",
    "\n"
   ]
  },
  {
   "cell_type": "code",
   "execution_count": null,
   "id": "ff82b637",
   "metadata": {},
   "outputs": [],
   "source": []
  },
  {
   "cell_type": "code",
   "execution_count": null,
   "id": "98c48311",
   "metadata": {},
   "outputs": [],
   "source": []
  },
  {
   "cell_type": "code",
   "execution_count": null,
   "id": "f929b90e",
   "metadata": {},
   "outputs": [],
   "source": []
  },
  {
   "cell_type": "code",
   "execution_count": null,
   "id": "d132877a",
   "metadata": {},
   "outputs": [],
   "source": []
  },
  {
   "cell_type": "code",
   "execution_count": null,
   "id": "4da7b6e1",
   "metadata": {},
   "outputs": [],
   "source": []
  },
  {
   "cell_type": "code",
   "execution_count": null,
   "id": "440c71de",
   "metadata": {},
   "outputs": [],
   "source": []
  },
  {
   "cell_type": "code",
   "execution_count": null,
   "id": "4dcc80d4",
   "metadata": {},
   "outputs": [],
   "source": []
  }
 ],
 "metadata": {
  "kernelspec": {
   "display_name": "Python 3 (ipykernel)",
   "language": "python",
   "name": "python3"
  },
  "language_info": {
   "codemirror_mode": {
    "name": "ipython",
    "version": 3
   },
   "file_extension": ".py",
   "mimetype": "text/x-python",
   "name": "python",
   "nbconvert_exporter": "python",
   "pygments_lexer": "ipython3",
   "version": "3.10.6"
  }
 },
 "nbformat": 4,
 "nbformat_minor": 5
}
